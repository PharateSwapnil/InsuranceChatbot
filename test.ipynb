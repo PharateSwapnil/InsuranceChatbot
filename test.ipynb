import sqlite3

# Connect to the database file
conn = sqlite3.connect(r"data/insurance.db")
cursor = conn.cursor()

# Get list of all tables
cursor.execute("SELECT name FROM sqlite_master WHERE type='table';")
tables = cursor.fetchall()

print("Tables in the database:")
for table in tables:
    print(f" - {table[0]}")

# Print first 5 rows from each table
for table in tables:
    table_name = table[0]
    print(f"\nData from table: {table_name}")
    cursor.execute(f"SELECT * FROM {table_name} LIMIT 5;")
    rows = cursor.fetchall()

    # Get column names
    column_names = [description[0] for description in cursor.description]
    print(" | ".join(column_names))

    for row in rows:
        print(" | ".join(str(item) for item in row))

# Close the connection
conn.close()


